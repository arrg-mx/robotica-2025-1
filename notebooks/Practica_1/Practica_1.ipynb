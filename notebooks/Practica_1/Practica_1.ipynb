{
 "cells": [
  {
   "cell_type": "markdown",
   "id": "4ad60680-68ce-410c-b0e2-b4c1c133cd82",
   "metadata": {},
   "source": [
    "# Práctica 1 URDF\n",
    "\n",
    "## Objetivo\n",
    "\n",
    "El objetivo de esta práctica es que el alumno comprenda, interprete y modifique la información básica de los formatos de Universal Robot Description File (URDF).\n",
    "\n",
    "\n",
    "### Metas \n",
    "\n",
    "- Que el alumno comprende el orden de los archivos que comprenden los espacios de trabajo (ws) y los paquetes que los integran en ROS 2.\n",
    "- Que el alumno comprenda la estructura básica de un archivo URDF.\n",
    "- Que el alumno sea capaz de mofificar la información básica de los archivos URDF para modificar la descripción de un robot serial.\n",
    "- Que el alumno conozca los elementos de los archivos \"launch\" en ROS 2.\n",
    "- Que el alumno sea capaz de vizualizar un robot descrito en un archivo URDF mediante la aplicación de RVIZ.\n",
    "\n",
    "### Contribución al perfil del egresado\n",
    "\n",
    "La siguiente práctica contribuye en los siguientes puntos al perfil del egresado:\n",
    "\n",
    "#### Aptitudes y habilidades\n",
    "\n",
    "- Para modelar, simular e interpretar el comportamiento de los sistemas mecatrónicos.\n",
    "- Para desarrollar, operar y mantener procesos productivos que impliquen la transformación de materia, energía e información.\n",
    "- Para diseñar, construir, operar y mantener los sistemas mecatrónicos y sus componentes.\n",
    "\n",
    "#### Actitudes\n",
    "\n",
    "- Ser creativo e innovador.\n",
    "- Tener confianza en su preparación académica.\n",
    "- Comprometido con su actualización, superación y competencia profesional.\n",
    "\n",
    "#### De tipo social\n",
    "\n",
    "- Promover el cambio en la mentalidad frente a la competitividad internacional.\n",
    "\n",
    "\n",
    "\n",
    "## Rúbrica de evaluación\n",
    "\n",
    "La evaluación de la práctica contará de los siguientes puntos:\n",
    "\n",
    "| Elemento | Porcentaje |\n",
    "| ------:| ----------- |\n",
    "| ***Previo*** | 25% | \n",
    "| **Desarrollo** | 25% |\n",
    "| **Resultado**  | 25% |\n",
    "| **Conclusiones** | 25% |\n",
    "\n",
    "\n",
    "Los siguientes elementos se evaluaran con base en los siguientes criterios:\n",
    "\n",
    "| Elemento | Malo | Regular | Bueno | Muy bueno| \n",
    "| ------:| ------ | --------| ------| --------  |\n",
    "| ***Previo*** | El previo no contiene los elemtos solocitados (0%)| El previo contiene parcialmente la infomración solocitada (10%) |  El previo contiene la infomración solocitada sin referencias (20%) | El previo contiene la información solicitada con referencias (25%) |\n",
    "| **Desarrollo** | El desarrollo de la práctica no fue realizada (0%) | El desarrollo de la práctica fue pacialmente realizado (10%) | La práctica fue realizada pero no fue realizada correctamente (20%) | La práctica fue realizada en su totalidad correctamente (25%) |\n",
    "| **Resultado**  | No se entregarón los resultados de la práctica (0%)| Se entregaron pracialmente los resultados (10%) | Se entregaron los resultados sin descripción (20%) | Se entregaron los resultados de la práctica y son interpetrables(25%) |\n",
    "| **Conclusiones** | No se entragaron conclusiones (0%) | Las conclusciones no están relacionadas con el objetivo de la práctica (5%) | Las conclusciones se relacionan con el objetivo de práctica (10%) | Las concluscions se relacionana con el objetivo de la práctica y se basan en los resultados obtenidos (25%) | \n",
    "\n"
   ]
  },
  {
   "cell_type": "markdown",
   "id": "4d392cc9-9f13-45dd-aeab-49a3ef991dc5",
   "metadata": {},
   "source": [
    "## Previo de la Práctica 1\n",
    "\n",
    "Se le solicita al alumno investigar y colocar la sigueinte información en esta sección:\n",
    "\n",
    "- Definición de URDF.\n",
    "- Tipos de juntas que están definidas dentro del formato URDF.\n",
    "- Definición de elementos \"primitivos\" que se pueden utilizar para definir un robot en ROS.\n",
    "- Que es un nodo y que es un topico en ROS 2\n",
    "- Que es RVIZ.\n",
    "\n",
    "En caso de integrar imagenes, colocarlas en un carpeta definida como Imagenes_p1 y colocar la bibliografía al final de esta sección.\n"
   ]
  },
  {
   "cell_type": "markdown",
   "id": "6771b56b-e285-43cc-b039-e502c9e0ef9c",
   "metadata": {},
   "source": [
    "## Desarrollo de la práctica \n",
    "\n",
    "El desarrollo de la práctica se divide en dos partes:\n",
    "\n",
    "1. La primera parte de realizará en clase, en la cual se desarrollará y simulará de descripción de un eslabón cayo movimiento está restringido por una junta rotacional.\n",
    "2. El alumno debe modificar el código del archivo para agregar otro eslabón el cual puede estar unido por al primer eslabón por una junta revolución o una junta prismática.\n",
    "\n"
   ]
  },
  {
   "cell_type": "code",
   "execution_count": null,
   "id": "4cb1f09b-323d-4649-b133-6e9e86c3cbcd",
   "metadata": {},
   "outputs": [],
   "source": []
  }
 ],
 "metadata": {
  "kernelspec": {
   "display_name": "Python 3 (ipykernel)",
   "language": "python",
   "name": "python3"
  },
  "language_info": {
   "codemirror_mode": {
    "name": "ipython",
    "version": 3
   },
   "file_extension": ".py",
   "mimetype": "text/x-python",
   "name": "python",
   "nbconvert_exporter": "python",
   "pygments_lexer": "ipython3",
   "version": "3.10.12"
  }
 },
 "nbformat": 4,
 "nbformat_minor": 5
}
